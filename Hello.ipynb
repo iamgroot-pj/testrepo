{
 "cells": [
  {
   "cell_type": "markdown",
   "id": "7bd145c2-b55f-40b4-9064-ab700d76bd1b",
   "metadata": {},
   "source": [
    "My Project"
   ]
  },
  {
   "cell_type": "code",
   "execution_count": 1,
   "id": "bd02fb14-a5a8-4576-93ea-f78d822cabcb",
   "metadata": {},
   "outputs": [
    {
     "name": "stdout",
     "output_type": "stream",
     "text": [
      "16\n"
     ]
    }
   ],
   "source": [
    "a = 4\n",
    "b = 2\n",
    "c = a**b\n",
    "print(c)"
   ]
  },
  {
   "cell_type": "code",
   "execution_count": null,
   "id": "ce52fc53-795b-4fb1-874c-135f29a1413b",
   "metadata": {},
   "outputs": [],
   "source": []
  }
 ],
 "metadata": {
  "kernelspec": {
   "display_name": "Python",
   "language": "python",
   "name": "conda-env-python-py"
  },
  "language_info": {
   "codemirror_mode": {
    "name": "ipython",
    "version": 3
   },
   "file_extension": ".py",
   "mimetype": "text/x-python",
   "name": "python",
   "nbconvert_exporter": "python",
   "pygments_lexer": "ipython3",
   "version": "3.6.13"
  }
 },
 "nbformat": 4,
 "nbformat_minor": 5
}
